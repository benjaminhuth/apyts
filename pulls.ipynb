{
 "cells": [
  {
   "cell_type": "code",
   "execution_count": 23,
   "id": "9d40605b-7c4c-4e71-b4c1-66738e20f4b7",
   "metadata": {},
   "outputs": [],
   "source": [
    "import pickle\n",
    "import matplotlib.pyplot as plt"
   ]
  },
  {
   "cell_type": "code",
   "execution_count": 14,
   "id": "d270e6f0-c71c-4a35-bb2e-2ff3d712983e",
   "metadata": {},
   "outputs": [],
   "source": [
    "with open(\"output/20230118_161617-2000particles/start_parameters.pickle\", 'rb') as f:\n",
    "    start_parameters = pickle.load(f)"
   ]
  },
  {
   "cell_type": "code",
   "execution_count": 15,
   "id": "69bec2c1-0551-4ebc-af0b-5cecbda9e20d",
   "metadata": {},
   "outputs": [],
   "source": [
    "with open(\"output/20230118_161617-2000particles/gsf_fit_result.pickle\", 'rb') as f:\n",
    "    gsf_fit_result = pickle.load(f)"
   ]
  },
  {
   "cell_type": "code",
   "execution_count": 13,
   "id": "c560db4b-c370-466f-a9fc-99673638aee4",
   "metadata": {},
   "outputs": [
    {
     "data": {
      "text/plain": [
       "2000"
      ]
     },
     "execution_count": 13,
     "metadata": {},
     "output_type": "execute_result"
    }
   ],
   "source": [
    "len(gsf_fit_result['fit_result'])"
   ]
  },
  {
   "cell_type": "code",
   "execution_count": 24,
   "id": "75ecf0eb-f4dc-49cc-ae35-1eb171377fe1",
   "metadata": {},
   "outputs": [
    {
     "data": {
      "text/plain": [
       "dict_keys(['parameters', 'covs', 'smeared'])"
      ]
     },
     "execution_count": 24,
     "metadata": {},
     "output_type": "execute_result"
    }
   ],
   "source": [
    "start_parameters.keys()"
   ]
  },
  {
   "cell_type": "code",
   "execution_count": 29,
   "id": "d3318f8c-774b-4082-8fea-f2606556a8b1",
   "metadata": {},
   "outputs": [
    {
     "data": {
      "image/png": "[encoded data removed]",
      "text/plain": [
       "<Figure size 864x288 with 3 Axes>"
      ]
     },
     "metadata": {
      "needs_background": "light"
     },
     "output_type": "display_data"
    }
   ],
   "source": [
    "fig, axes = plt.subplots(1,3, figsize=(12,4))\n",
    "for ax, p in zip(axes, start_parameters['parameters'].T):\n",
    "    ax.hist(p, bins=\"rice\")"
   ]
  },
  {
   "cell_type": "code",
   "execution_count": null,
   "id": "30f8a4ca-bf10-4c42-b5c2-1d06f00ac037",
   "metadata": {},
   "outputs": [],
   "source": []
  }
 ],
 "metadata": {
  "kernelspec": {
   "display_name": "Python 3",
   "language": "python",
   "name": "python3"
  },
  "language_info": {
   "codemirror_mode": {
    "name": "ipython",
    "version": 3
   },
   "file_extension": ".py",
   "mimetype": "text/x-python",
   "name": "python",
   "nbconvert_exporter": "python",
   "pygments_lexer": "ipython3",
   "version": "3.11.1"
  }
 },
 "nbformat": 4,
 "nbformat_minor": 5
}
