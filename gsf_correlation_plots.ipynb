{
 "cells": [
  {
   "cell_type": "code",
   "execution_count": 1,
   "id": "fb292884-2844-40c8-b90b-0ca95b444b62",
   "metadata": {},
   "outputs": [],
   "source": [
    "import pickle\n",
    "from pathlib import Path\n",
    "\n",
    "import pandas as pd\n",
    "import numpy as np\n",
    "import matplotlib.pyplot as plt"
   ]
  },
  {
   "cell_type": "code",
   "execution_count": 2,
   "id": "0086d445-8caf-4b2f-b95d-7550ca40b032",
   "metadata": {},
   "outputs": [],
   "source": [
    "from apyts.constants import *\n",
    "from test_utils import plot_hists"
   ]
  },
  {
   "cell_type": "markdown",
   "id": "e9afc678-5cb0-4831-bcb5-e24e253a6306",
   "metadata": {
    "tags": []
   },
   "source": [
    "## Functionsplot_hists"
   ]
  },
  {
   "cell_type": "code",
   "execution_count": 3,
   "id": "90240295-b382-45f5-8551-1fcc635ae074",
   "metadata": {},
   "outputs": [],
   "source": [
    "def plot_correlation_matrix(df, fig_ax=None, absolute=True):\n",
    "    if fig_ax:\n",
    "        fig, ax = fig_ax\n",
    "    else:\n",
    "        fig, ax = plt.subplots()\n",
    "        \n",
    "    corrcoefs = np.corrcoef(df.to_numpy().T)\n",
    "    if absolute:\n",
    "        corrcoefs = abs(corrcoefs)\n",
    "    \n",
    "    im = ax.imshow(corrcoefs, origin=\"lower\", aspect=0.3, vmin=0 if absolute else -1, vmax=1)\n",
    "    fig.colorbar(im, ax=ax, label='Interactive Colorbar')\n",
    "\n",
    "    keys = df.columns.tolist()\n",
    "    ticks = np.arange(len(keys))\n",
    "\n",
    "    ax.set_xticks(ticks, keys, rotation=45, ha='right')\n",
    "    ax.set_yticks(ticks, keys)    \n",
    "    \n",
    "    ax.set_xticks(ticks-0.5, minor=True)\n",
    "    ax.set_yticks(ticks-0.5, minor=True)\n",
    "    \n",
    "    ax.set_aspect(0.7)\n",
    "        \n",
    "    ax.grid(which='minor', color='black', linestyle='-', linewidth=1)\n",
    "    \n",
    "    return fig, ax"
   ]
  },
  {
   "cell_type": "code",
   "execution_count": 4,
   "id": "22c44715-a77c-4754-8d31-4dfdf6cf11d3",
   "metadata": {},
   "outputs": [],
   "source": [
    "def plot_momentum_residual_energy_loss(df, name):\n",
    "    fig, ax = plt.subplots(2)\n",
    "    ax[0].set_title(\"{}: res vs loss\".format(name))\n",
    "    ax[0].scatter(df[\"RES_P\"], df[\"TOTAL_ELOSS\"], alpha=0.3)\n",
    "\n",
    "    ax[1].set_title(\"Correlation coefficient\")\n",
    "    plot_correlation_matrix(df[[\"RES_P\",\"TOTAL_ELOSS\"]], (fig, ax[1]))\n",
    "     \n",
    "    return fig, ax"
   ]
  },
  {
   "cell_type": "code",
   "execution_count": 5,
   "id": "65c2f4ef-eb59-4a38-99fe-8bb4cb5b958d",
   "metadata": {},
   "outputs": [],
   "source": [
    "def make_dataframe(true_pars, final_pars):\n",
    "    data = pd.DataFrame()\n",
    "    \n",
    "    data[[\"TRUE_LOC\", \"TRUE_PHI\", \"TRUE_QOP\"]] = true_pars\n",
    "    data[\"TRUE_P\"] = abs(1./data[\"TRUE_QOP\"])\n",
    "    \n",
    "    data[[\"FIT_LOC\", \"FIT_PHI\", \"FIT_QOP\"]] = final_pars\n",
    "    data[\"FIT_P\"] = abs(1./data[\"FIT_QOP\"])\n",
    "    \n",
    "    data[[\"RES_LOC\", \"RES_PHI\", \"RES_QOP\"]] = final_pars - true_pars\n",
    "    data[\"RES_P\"] = abs(1./data[\"FIT_QOP\"]) - abs(1./data[\"TRUE_QOP\"])\n",
    "    \n",
    "    return data"
   ]
  },
  {
   "cell_type": "code",
   "execution_count": 6,
   "id": "8828b3cc-764b-4a82-8ac8-ba16eb371e4d",
   "metadata": {},
   "outputs": [],
   "source": [
    "def make_surfaces_without_energy_loss(truth_start, sim_results):\n",
    "    surfaces_without_energy_loss = []\n",
    "    \n",
    "    for truth_start, (_, truth_sim, _) in zip(truth_start, sim_results):\n",
    "        \n",
    "        last_energy = abs(1./truth_start[eBoundQoP])        \n",
    "        for surface, truth_pars in enumerate(truth_sim):\n",
    "            current_energy = abs(1./truth_pars[eBoundQoP])\n",
    "            \n",
    "            if current_energy / last_energy < 0.9:\n",
    "                break\n",
    "            else:\n",
    "                last_energy = current_energy\n",
    "        \n",
    "        surfaces_without_energy_loss.append(surface)\n",
    "                \n",
    "    return np.array(surfaces_without_energy_loss)"
   ]
  },
  {
   "cell_type": "code",
   "execution_count": 7,
   "id": "89a33ad3-7475-441f-96b0-eb7025527360",
   "metadata": {},
   "outputs": [],
   "source": [
    "def make_max_energy_loss(truth_start, sim_results):\n",
    "    max_energy_losses = np.zeros(len(truth_start))\n",
    "    \n",
    "    for i, (truth_start, (_, truth_sim, _)) in enumerate(zip(truth_start, sim_results)):\n",
    "        last_energy = abs(1./truth_start[eBoundQoP])   \n",
    "        \n",
    "        for surface, truth_pars in enumerate(truth_sim):\n",
    "            current_energy = abs(1./truth_pars[eBoundQoP])\n",
    "            loss = last_energy - current_energy\n",
    "            \n",
    "            max_energy_losses[i] = max(loss, max_energy_losses[i])\n",
    "            last_energy = current_energy\n",
    "        \n",
    "    return max_energy_losses"
   ]
  },
  {
   "cell_type": "markdown",
   "id": "f7376b00-f91f-415d-9fb9-58aaa2c500a7",
   "metadata": {},
   "source": [
    "## Import & compute data"
   ]
  },
  {
   "cell_type": "code",
   "execution_count": 8,
   "id": "127fcddf-4850-4e96-a6f2-33afdae4741d",
   "metadata": {},
   "outputs": [],
   "source": [
    "input_path = Path(\"output/20230117_132335-500particles\")"
   ]
  },
  {
   "cell_type": "code",
   "execution_count": 9,
   "id": "9704dc03-0c4c-4351-bbb0-f3dbacbb25a7",
   "metadata": {},
   "outputs": [],
   "source": [
    "with open(input_path / \"sim_result.pickle\", \"rb\") as f:\n",
    "    data = pickle.load(f)\n",
    "    true_pars = data[\"true_pars\"]\n",
    "    sim_results = data[\"sim_results\"]\n",
    "with open(input_path / \"start_parameters.pickle\", \"rb\") as f:\n",
    "    data = pickle.load(f)\n",
    "    start_pars = data[\"parameters\"]\n",
    "    start_covs = data[\"covs\"]"
   ]
  },
  {
   "cell_type": "code",
   "execution_count": 10,
   "id": "f4527d4e-7075-4288-b400-15a5ae6e3378",
   "metadata": {},
   "outputs": [],
   "source": [
    "energy_loss = np.array([\n",
    "    abs(1./truth_start[eBoundQoP]) - abs(1./truth_sim[-1][eBoundQoP]) for (_, truth_sim, _), truth_start in zip(sim_results, true_pars)\n",
    "])"
   ]
  },
  {
   "cell_type": "code",
   "execution_count": 11,
   "id": "cbfa6033-5e7b-4f12-828b-5e735ff74ea2",
   "metadata": {},
   "outputs": [
    {
     "data": {
      "image/png": "[encoded data removed]",
      "text/plain": [
       "<Figure size 432x288 with 1 Axes>"
      ]
     },
     "metadata": {
      "needs_background": "light"
     },
     "output_type": "display_data"
    }
   ],
   "source": [
    "_ = plt.hist(energy_loss, bins=\"rice\")"
   ]
  },
  {
   "cell_type": "code",
   "execution_count": 12,
   "id": "71da77d3-7b68-400c-9e4f-cbc93beb8a2c",
   "metadata": {},
   "outputs": [
    {
     "data": {
      "text/plain": [
       "(500,)"
      ]
     },
     "execution_count": 12,
     "metadata": {},
     "output_type": "execute_result"
    }
   ],
   "source": [
    "surfaces_without_energy_loss = make_surfaces_without_energy_loss(true_pars, sim_results)\n",
    "surfaces_without_energy_loss.shape"
   ]
  },
  {
   "cell_type": "code",
   "execution_count": 13,
   "id": "a8de97d1-4200-4888-97b8-1491aa730c29",
   "metadata": {},
   "outputs": [
    {
     "data": {
      "text/plain": [
       "<BarContainer object of 9 artists>"
      ]
     },
     "execution_count": 13,
     "metadata": {},
     "output_type": "execute_result"
    },
    {
     "data": {
      "image/png": "[encoded data removed]",
      "text/plain": [
       "<Figure size 432x288 with 1 Axes>"
      ]
     },
     "metadata": {
      "needs_background": "light"
     },
     "output_type": "display_data"
    }
   ],
   "source": [
    "plt.bar(*np.unique(surfaces_without_energy_loss, return_counts=True))"
   ]
  },
  {
   "cell_type": "code",
   "execution_count": 14,
   "id": "b6b6ac2c-3e06-4cde-bbe2-480c116c507b",
   "metadata": {},
   "outputs": [],
   "source": [
    "max_energy_loss = make_max_energy_loss(true_pars, sim_results)"
   ]
  },
  {
   "cell_type": "code",
   "execution_count": 15,
   "id": "41617ec1-76e8-4565-b4fd-4dfd70b5e27f",
   "metadata": {},
   "outputs": [
    {
     "data": {
      "image/png": "[encoded data removed]",
      "text/plain": [
       "<Figure size 432x288 with 1 Axes>"
      ]
     },
     "metadata": {
      "needs_background": "light"
     },
     "output_type": "display_data"
    }
   ],
   "source": [
    "_ = plt.hist(max_energy_loss, bins=\"rice\")"
   ]
  },
  {
   "cell_type": "markdown",
   "id": "9461cd5f-1595-431d-b51e-a10339fa3229",
   "metadata": {},
   "source": [
    "## Kalman Fitter"
   ]
  },
  {
   "cell_type": "code",
   "execution_count": 16,
   "id": "8a1433bd-191a-4b60-8b01-7bf5159b9916",
   "metadata": {},
   "outputs": [],
   "source": [
    "with open(input_path / \"kf_fit_result.pickle\", \"rb\") as f:\n",
    "    kf_fit_results = pickle.load(f)[\"fit_result\"]"
   ]
  },
  {
   "cell_type": "code",
   "execution_count": 17,
   "id": "df6b6850-5274-4436-893a-764c2d75bab4",
   "metadata": {},
   "outputs": [],
   "source": [
    "kf_mask = np.array([ False if data is None else True for data in kf_fit_results ])\n",
    "kf_fit_results = [ d for d in kf_fit_results if d is not None ]\n",
    "kf_sim_results = [ d for d, keep in zip(sim_results, kf_mask) if keep ]\n",
    "kf_final_pars = np.stack([ data[0][0] for data in kf_fit_results ])\n",
    "\n",
    "kf_data = make_dataframe(true_pars[kf_mask], kf_final_pars)\n",
    "kf_data[\"TOTAL_ELOSS\"] = energy_loss[kf_mask]\n",
    "kf_data[\"MAX_ELOSS\"] = max_energy_loss[kf_mask]\n",
    "kf_data[\"SURF_NO_ELOSS\"] = surfaces_without_energy_loss[kf_mask]\n",
    "#kf_data = kf_data[ kf_data[\"ELOSS\"] > -0.1 ]"
   ]
  },
  {
   "cell_type": "code",
   "execution_count": 18,
   "id": "871fe7c8-a464-47f6-a965-9660dc951446",
   "metadata": {},
   "outputs": [
    {
     "data": {
      "text/html": [
       "<div>\n",
       "<style scoped>\n",
       "    .dataframe tbody tr th:only-of-type {\n",
       "        vertical-align: middle;\n",
       "    }\n",
       "\n",
       "    .dataframe tbody tr th {\n",
       "        vertical-align: top;\n",
       "    }\n",
       "\n",
       "    .dataframe thead th {\n",
       "        text-align: right;\n",
       "    }\n",
       "</style>\n",
       "<table border=\"1\" class=\"dataframe\">\n",
       "  <thead>\n",
       "    <tr style=\"text-align: right;\">\n",
       "      <th></th>\n",
       "      <th>TRUE_LOC</th>\n",
       "      <th>TRUE_PHI</th>\n",
       "      <th>TRUE_QOP</th>\n",
       "      <th>TRUE_P</th>\n",
       "      <th>FIT_LOC</th>\n",
       "      <th>FIT_PHI</th>\n",
       "      <th>FIT_QOP</th>\n",
       "      <th>FIT_P</th>\n",
       "      <th>RES_LOC</th>\n",
       "      <th>RES_PHI</th>\n",
       "      <th>RES_QOP</th>\n",
       "      <th>RES_P</th>\n",
       "      <th>TOTAL_ELOSS</th>\n",
       "      <th>MAX_ELOSS</th>\n",
       "      <th>SURF_NO_ELOSS</th>\n",
       "    </tr>\n",
       "  </thead>\n",
       "  <tbody>\n",
       "    <tr>\n",
       "      <th>0</th>\n",
       "      <td>0.0</td>\n",
       "      <td>1.570796</td>\n",
       "      <td>-0.25</td>\n",
       "      <td>4.0</td>\n",
       "      <td>-0.018520</td>\n",
       "      <td>1.570636</td>\n",
       "      <td>-0.250930</td>\n",
       "      <td>3.985174</td>\n",
       "      <td>-0.018520</td>\n",
       "      <td>-0.000161</td>\n",
       "      <td>-0.000930</td>\n",
       "      <td>-0.014826</td>\n",
       "      <td>1.553529e-02</td>\n",
       "      <td>1.553529e-02</td>\n",
       "      <td>8</td>\n",
       "    </tr>\n",
       "    <tr>\n",
       "      <th>1</th>\n",
       "      <td>0.0</td>\n",
       "      <td>1.570796</td>\n",
       "      <td>-0.25</td>\n",
       "      <td>4.0</td>\n",
       "      <td>-0.004111</td>\n",
       "      <td>1.570743</td>\n",
       "      <td>-0.250178</td>\n",
       "      <td>3.997146</td>\n",
       "      <td>-0.004111</td>\n",
       "      <td>-0.000054</td>\n",
       "      <td>-0.000178</td>\n",
       "      <td>-0.002854</td>\n",
       "      <td>1.489475e-12</td>\n",
       "      <td>1.482370e-12</td>\n",
       "      <td>8</td>\n",
       "    </tr>\n",
       "    <tr>\n",
       "      <th>2</th>\n",
       "      <td>0.0</td>\n",
       "      <td>1.570796</td>\n",
       "      <td>-0.25</td>\n",
       "      <td>4.0</td>\n",
       "      <td>0.002150</td>\n",
       "      <td>1.570816</td>\n",
       "      <td>-0.249916</td>\n",
       "      <td>4.001347</td>\n",
       "      <td>0.002150</td>\n",
       "      <td>0.000020</td>\n",
       "      <td>0.000084</td>\n",
       "      <td>0.001347</td>\n",
       "      <td>6.519652e-05</td>\n",
       "      <td>6.519652e-05</td>\n",
       "      <td>8</td>\n",
       "    </tr>\n",
       "    <tr>\n",
       "      <th>3</th>\n",
       "      <td>0.0</td>\n",
       "      <td>1.570796</td>\n",
       "      <td>-0.25</td>\n",
       "      <td>4.0</td>\n",
       "      <td>0.010536</td>\n",
       "      <td>1.570839</td>\n",
       "      <td>-0.249868</td>\n",
       "      <td>4.002107</td>\n",
       "      <td>0.010536</td>\n",
       "      <td>0.000043</td>\n",
       "      <td>0.000132</td>\n",
       "      <td>0.002107</td>\n",
       "      <td>2.417465e-07</td>\n",
       "      <td>2.417458e-07</td>\n",
       "      <td>8</td>\n",
       "    </tr>\n",
       "    <tr>\n",
       "      <th>4</th>\n",
       "      <td>0.0</td>\n",
       "      <td>1.570796</td>\n",
       "      <td>-0.25</td>\n",
       "      <td>4.0</td>\n",
       "      <td>-0.005139</td>\n",
       "      <td>1.570744</td>\n",
       "      <td>-0.250289</td>\n",
       "      <td>3.995386</td>\n",
       "      <td>-0.005139</td>\n",
       "      <td>-0.000052</td>\n",
       "      <td>-0.000289</td>\n",
       "      <td>-0.004614</td>\n",
       "      <td>2.002678e-01</td>\n",
       "      <td>2.002678e-01</td>\n",
       "      <td>8</td>\n",
       "    </tr>\n",
       "  </tbody>\n",
       "</table>\n",
       "</div>"
      ],
      "text/plain": [
       "   TRUE_LOC  TRUE_PHI  TRUE_QOP  TRUE_P   FIT_LOC   FIT_PHI   FIT_QOP  \\\n",
       "0       0.0  1.570796     -0.25     4.0 -0.018520  1.570636 -0.250930   \n",
       "1       0.0  1.570796     -0.25     4.0 -0.004111  1.570743 -0.250178   \n",
       "2       0.0  1.570796     -0.25     4.0  0.002150  1.570816 -0.249916   \n",
       "3       0.0  1.570796     -0.25     4.0  0.010536  1.570839 -0.249868   \n",
       "4       0.0  1.570796     -0.25     4.0 -0.005139  1.570744 -0.250289   \n",
       "\n",
       "      FIT_P   RES_LOC   RES_PHI   RES_QOP     RES_P   TOTAL_ELOSS  \\\n",
       "0  3.985174 -0.018520 -0.000161 -0.000930 -0.014826  1.553529e-02   \n",
       "1  3.997146 -0.004111 -0.000054 -0.000178 -0.002854  1.489475e-12   \n",
       "2  4.001347  0.002150  0.000020  0.000084  0.001347  6.519652e-05   \n",
       "3  4.002107  0.010536  0.000043  0.000132  0.002107  2.417465e-07   \n",
       "4  3.995386 -0.005139 -0.000052 -0.000289 -0.004614  2.002678e-01   \n",
       "\n",
       "      MAX_ELOSS  SURF_NO_ELOSS  \n",
       "0  1.553529e-02              8  \n",
       "1  1.482370e-12              8  \n",
       "2  6.519652e-05              8  \n",
       "3  2.417458e-07              8  \n",
       "4  2.002678e-01              8  "
      ]
     },
     "execution_count": 18,
     "metadata": {},
     "output_type": "execute_result"
    }
   ],
   "source": [
    "kf_data.head(5)"
   ]
  },
  {
   "cell_type": "code",
   "execution_count": 19,
   "id": "a16d28ca-7f0d-421c-ba57-1991e190633b",
   "metadata": {},
   "outputs": [
    {
     "data": {
      "text/plain": [
       "Text(0.5, 0.98, 'Residuals KF')"
      ]
     },
     "execution_count": 19,
     "metadata": {},
     "output_type": "execute_result"
    },
    {
     "data": {
      "image/png": "[encoded data removed]",
      "text/plain": [
       "<Figure size 432x288 with 4 Axes>"
      ]
     },
     "metadata": {
      "needs_background": "light"
     },
     "output_type": "display_data"
    }
   ],
   "source": [
    "fig, ax = plot_hists(kf_data.filter(like=\"RES_\"), bins=\"rice\")\n",
    "fig.suptitle(\"Residuals KF\")"
   ]
  },
  {
   "cell_type": "code",
   "execution_count": 20,
   "id": "4e304cf3-80f8-4106-949c-8408ad4ce628",
   "metadata": {},
   "outputs": [
    {
     "data": {
      "text/plain": [
       "Text(0.5, 0.98, 'KF correlation matrix')"
      ]
     },
     "execution_count": 20,
     "metadata": {},
     "output_type": "execute_result"
    },
    {
     "data": {
      "image/png": "[encoded data removed]",
      "text/plain": [
       "<Figure size 432x288 with 2 Axes>"
      ]
     },
     "metadata": {
      "needs_background": "light"
     },
     "output_type": "display_data"
    }
   ],
   "source": [
    "fig, ax = plot_correlation_matrix(kf_data.filter(regex=\"^(?!.*TRUE).*$\", axis=1))\n",
    "fig.suptitle(\"KF correlation matrix\")"
   ]
  },
  {
   "cell_type": "code",
   "execution_count": 21,
   "id": "f7db89b5-b76c-4476-a3a3-b5dd69c1bd89",
   "metadata": {},
   "outputs": [
    {
     "data": {
      "image/png": "[encoded data removed]",
      "text/plain": [
       "<Figure size 432x288 with 2 Axes>"
      ]
     },
     "metadata": {
      "needs_background": "light"
     },
     "output_type": "display_data"
    }
   ],
   "source": [
    "fig, ax = plot_correlation_matrix(kf_data[ kf_data[\"SURF_NO_ELOSS\"] > 0 ].filter(regex=\"^(?!.*(TRUE|SURF)).*$\", axis=1))"
   ]
  },
  {
   "cell_type": "markdown",
   "id": "865def12-df56-41ce-b2ef-c62510718f6c",
   "metadata": {},
   "source": [
    "## GSF "
   ]
  },
  {
   "cell_type": "code",
   "execution_count": 22,
   "id": "652d7a2d-ce43-4815-88fe-5d76e27a56a1",
   "metadata": {},
   "outputs": [],
   "source": [
    "with open(input_path / \"gsf_fit_result.pickle\", \"rb\") as f:\n",
    "    gsf_fit_results = pickle.load(f)[\"fit_result\"]"
   ]
  },
  {
   "cell_type": "code",
   "execution_count": 23,
   "id": "c6e685eb-e5b1-41fe-a148-b12f74ad9c2e",
   "metadata": {},
   "outputs": [],
   "source": [
    "gsf_mask = np.array([ False if data is None else True for data in gsf_fit_results ])\n",
    "gsf_fit_results = [ d for d in gsf_fit_results if d is not None ]\n",
    "gsf_sim_results = [ d for d, keep in zip(sim_results, gsf_mask) if keep ]\n",
    "gsf_final_pars = np.stack([ max(cmps, key=lambda c: c[0])[1] for cmps, _, _, _ in gsf_fit_results ])\n",
    "\n",
    "gsf_data = make_dataframe(true_pars[gsf_mask], gsf_final_pars)\n",
    "gsf_data[\"TOTAL_ELOSS\"] = energy_loss[gsf_mask]\n",
    "gsf_data[\"MAX_ELOSS\"] = max_energy_loss[gsf_mask]\n",
    "gsf_data[\"SURF_NO_ELOSS\"] = surfaces_without_energy_loss[gsf_mask]\n",
    "#gsf_data = gsf_data[ gsf_data[\"ELOSS\"] > -0.1 ]"
   ]
  },
  {
   "cell_type": "code",
   "execution_count": 24,
   "id": "d0846a5e-900f-40a8-ab92-ef5043c5e085",
   "metadata": {},
   "outputs": [
    {
     "data": {
      "text/html": [
       "<div>\n",
       "<style scoped>\n",
       "    .dataframe tbody tr th:only-of-type {\n",
       "        vertical-align: middle;\n",
       "    }\n",
       "\n",
       "    .dataframe tbody tr th {\n",
       "        vertical-align: top;\n",
       "    }\n",
       "\n",
       "    .dataframe thead th {\n",
       "        text-align: right;\n",
       "    }\n",
       "</style>\n",
       "<table border=\"1\" class=\"dataframe\">\n",
       "  <thead>\n",
       "    <tr style=\"text-align: right;\">\n",
       "      <th></th>\n",
       "      <th>TRUE_LOC</th>\n",
       "      <th>TRUE_PHI</th>\n",
       "      <th>TRUE_QOP</th>\n",
       "      <th>TRUE_P</th>\n",
       "      <th>FIT_LOC</th>\n",
       "      <th>FIT_PHI</th>\n",
       "      <th>FIT_QOP</th>\n",
       "      <th>FIT_P</th>\n",
       "      <th>RES_LOC</th>\n",
       "      <th>RES_PHI</th>\n",
       "      <th>RES_QOP</th>\n",
       "      <th>RES_P</th>\n",
       "      <th>TOTAL_ELOSS</th>\n",
       "      <th>MAX_ELOSS</th>\n",
       "      <th>SURF_NO_ELOSS</th>\n",
       "    </tr>\n",
       "  </thead>\n",
       "  <tbody>\n",
       "    <tr>\n",
       "      <th>0</th>\n",
       "      <td>0.0</td>\n",
       "      <td>1.570796</td>\n",
       "      <td>-0.25</td>\n",
       "      <td>4.0</td>\n",
       "      <td>-0.009989</td>\n",
       "      <td>1.570722</td>\n",
       "      <td>-0.250287</td>\n",
       "      <td>3.995410</td>\n",
       "      <td>-0.009989</td>\n",
       "      <td>-0.000074</td>\n",
       "      <td>-0.000287</td>\n",
       "      <td>-0.004590</td>\n",
       "      <td>1.553529e-02</td>\n",
       "      <td>1.553529e-02</td>\n",
       "      <td>8</td>\n",
       "    </tr>\n",
       "    <tr>\n",
       "      <th>1</th>\n",
       "      <td>0.0</td>\n",
       "      <td>1.570796</td>\n",
       "      <td>-0.25</td>\n",
       "      <td>4.0</td>\n",
       "      <td>-0.006170</td>\n",
       "      <td>1.570736</td>\n",
       "      <td>-0.250190</td>\n",
       "      <td>3.996965</td>\n",
       "      <td>-0.006170</td>\n",
       "      <td>-0.000060</td>\n",
       "      <td>-0.000190</td>\n",
       "      <td>-0.003035</td>\n",
       "      <td>1.489475e-12</td>\n",
       "      <td>1.482370e-12</td>\n",
       "      <td>8</td>\n",
       "    </tr>\n",
       "    <tr>\n",
       "      <th>2</th>\n",
       "      <td>0.0</td>\n",
       "      <td>1.570796</td>\n",
       "      <td>-0.25</td>\n",
       "      <td>4.0</td>\n",
       "      <td>-0.000024</td>\n",
       "      <td>1.570809</td>\n",
       "      <td>-0.249930</td>\n",
       "      <td>4.001128</td>\n",
       "      <td>-0.000024</td>\n",
       "      <td>0.000013</td>\n",
       "      <td>0.000070</td>\n",
       "      <td>0.001128</td>\n",
       "      <td>6.519652e-05</td>\n",
       "      <td>6.519652e-05</td>\n",
       "      <td>8</td>\n",
       "    </tr>\n",
       "    <tr>\n",
       "      <th>3</th>\n",
       "      <td>0.0</td>\n",
       "      <td>1.570796</td>\n",
       "      <td>-0.25</td>\n",
       "      <td>4.0</td>\n",
       "      <td>0.009499</td>\n",
       "      <td>1.570836</td>\n",
       "      <td>-0.249869</td>\n",
       "      <td>4.002097</td>\n",
       "      <td>0.009499</td>\n",
       "      <td>0.000040</td>\n",
       "      <td>0.000131</td>\n",
       "      <td>0.002097</td>\n",
       "      <td>2.417465e-07</td>\n",
       "      <td>2.417458e-07</td>\n",
       "      <td>8</td>\n",
       "    </tr>\n",
       "    <tr>\n",
       "      <th>4</th>\n",
       "      <td>0.0</td>\n",
       "      <td>1.570796</td>\n",
       "      <td>-0.25</td>\n",
       "      <td>4.0</td>\n",
       "      <td>-0.007916</td>\n",
       "      <td>1.570735</td>\n",
       "      <td>-0.250305</td>\n",
       "      <td>3.995121</td>\n",
       "      <td>-0.007916</td>\n",
       "      <td>-0.000061</td>\n",
       "      <td>-0.000305</td>\n",
       "      <td>-0.004879</td>\n",
       "      <td>2.002678e-01</td>\n",
       "      <td>2.002678e-01</td>\n",
       "      <td>8</td>\n",
       "    </tr>\n",
       "  </tbody>\n",
       "</table>\n",
       "</div>"
      ],
      "text/plain": [
       "   TRUE_LOC  TRUE_PHI  TRUE_QOP  TRUE_P   FIT_LOC   FIT_PHI   FIT_QOP  \\\n",
       "0       0.0  1.570796     -0.25     4.0 -0.009989  1.570722 -0.250287   \n",
       "1       0.0  1.570796     -0.25     4.0 -0.006170  1.570736 -0.250190   \n",
       "2       0.0  1.570796     -0.25     4.0 -0.000024  1.570809 -0.249930   \n",
       "3       0.0  1.570796     -0.25     4.0  0.009499  1.570836 -0.249869   \n",
       "4       0.0  1.570796     -0.25     4.0 -0.007916  1.570735 -0.250305   \n",
       "\n",
       "      FIT_P   RES_LOC   RES_PHI   RES_QOP     RES_P   TOTAL_ELOSS  \\\n",
       "0  3.995410 -0.009989 -0.000074 -0.000287 -0.004590  1.553529e-02   \n",
       "1  3.996965 -0.006170 -0.000060 -0.000190 -0.003035  1.489475e-12   \n",
       "2  4.001128 -0.000024  0.000013  0.000070  0.001128  6.519652e-05   \n",
       "3  4.002097  0.009499  0.000040  0.000131  0.002097  2.417465e-07   \n",
       "4  3.995121 -0.007916 -0.000061 -0.000305 -0.004879  2.002678e-01   \n",
       "\n",
       "      MAX_ELOSS  SURF_NO_ELOSS  \n",
       "0  1.553529e-02              8  \n",
       "1  1.482370e-12              8  \n",
       "2  6.519652e-05              8  \n",
       "3  2.417458e-07              8  \n",
       "4  2.002678e-01              8  "
      ]
     },
     "execution_count": 24,
     "metadata": {},
     "output_type": "execute_result"
    }
   ],
   "source": [
    "gsf_data.head(5)"
   ]
  },
  {
   "cell_type": "code",
   "execution_count": 25,
   "id": "01ffa0cb-f30e-47f6-8ce4-3324e16f3762",
   "metadata": {},
   "outputs": [
    {
     "data": {
      "image/png": "[encoded data removed]",
      "text/plain": [
       "<Figure size 432x288 with 4 Axes>"
      ]
     },
     "metadata": {
      "needs_background": "light"
     },
     "output_type": "display_data"
    }
   ],
   "source": [
    "fig, ax = plot_hists(gsf_data.filter(like=\"RES_\"), bins=\"rice\")\n",
    "fig.suptitle(\"Residuals GSF\")\n",
    "fig.tight_layout()"
   ]
  },
  {
   "cell_type": "code",
   "execution_count": 26,
   "id": "8a1e0bf5-e4c1-48ad-888a-b1c7d0eba5a7",
   "metadata": {},
   "outputs": [
    {
     "data": {
      "text/plain": [
       "Text(0.5, 0.98, 'GSF correlation matrix')"
      ]
     },
     "execution_count": 26,
     "metadata": {},
     "output_type": "execute_result"
    },
    {
     "data": {
      "image/png": "[encoded data removed]",
      "text/plain": [
       "<Figure size 432x288 with 2 Axes>"
      ]
     },
     "metadata": {
      "needs_background": "light"
     },
     "output_type": "display_data"
    }
   ],
   "source": [
    "fig, ax = plot_correlation_matrix(gsf_data.filter(regex=\"^(?!.*TRUE).*$\", axis=1))\n",
    "fig.suptitle(\"GSF correlation matrix\")"
   ]
  },
  {
   "cell_type": "code",
   "execution_count": 27,
   "id": "e37ee989-6c35-44a6-a395-df635d660add",
   "metadata": {},
   "outputs": [
    {
     "data": {
      "text/plain": [
       "<matplotlib.collections.PathCollection at 0x7f6dba5472d0>"
      ]
     },
     "execution_count": 27,
     "metadata": {},
     "output_type": "execute_result"
    },
    {
     "data": {
      "image/png": "[encoded data removed]",
      "text/plain": [
       "<Figure size 432x288 with 1 Axes>"
      ]
     },
     "metadata": {
      "needs_background": "light"
     },
     "output_type": "display_data"
    }
   ],
   "source": [
    "plt.scatter(gsf_data[\"RES_P\"], gsf_data[\"TOTAL_ELOSS\"])"
   ]
  },
  {
   "cell_type": "code",
   "execution_count": 28,
   "id": "e2ce9f10-313c-40b6-bad2-9f614c807f38",
   "metadata": {},
   "outputs": [
    {
     "data": {
      "image/png": "[encoded data removed]",
      "text/plain": [
       "<Figure size 432x288 with 2 Axes>"
      ]
     },
     "metadata": {
      "needs_background": "light"
     },
     "output_type": "display_data"
    }
   ],
   "source": [
    "fig, ax = plot_correlation_matrix(gsf_data[ gsf_data[\"SURF_NO_ELOSS\"] > 0 ].filter(regex=\"^(?!.*(TRUE|SURF)).*$\", axis=1))"
   ]
  },
  {
   "cell_type": "code",
   "execution_count": 29,
   "id": "befc7eeb-47cf-41c8-8063-2a8f163b85ec",
   "metadata": {},
   "outputs": [],
   "source": [
    "test = gsf_data[ gsf_data[\"RES_P\"] > 0.025 ]\n",
    "test = test[ test[\"TOTAL_ELOSS\"] < 0.25 ]"
   ]
  },
  {
   "cell_type": "code",
   "execution_count": 30,
   "id": "8e5b3c2a-b044-4064-8e1f-5f836abbc4aa",
   "metadata": {},
   "outputs": [
    {
     "data": {
      "text/plain": [
       "<matplotlib.collections.PathCollection at 0x7f6db9fe72d0>"
      ]
     },
     "execution_count": 30,
     "metadata": {},
     "output_type": "execute_result"
    },
    {
     "data": {
      "image/png": "[encoded data removed]",
      "text/plain": [
       "<Figure size 432x288 with 1 Axes>"
      ]
     },
     "metadata": {
      "needs_background": "light"
     },
     "output_type": "display_data"
    }
   ],
   "source": [
    "plt.scatter(test[\"RES_P\"], test[\"TOTAL_ELOSS\"])"
   ]
  },
  {
   "cell_type": "code",
   "execution_count": 31,
   "id": "10be4020-a536-43ed-beb2-0af1a53d4feb",
   "metadata": {},
   "outputs": [
    {
     "data": {
      "image/png": "[encoded data removed]",
      "text/plain": [
       "<Figure size 432x288 with 2 Axes>"
      ]
     },
     "metadata": {
      "needs_background": "light"
     },
     "output_type": "display_data"
    }
   ],
   "source": [
    "fig, ax = plot_correlation_matrix(test.filter(regex=\"^(?!.*(TRUE|SURF)).*$\", axis=1))"
   ]
  },
  {
   "cell_type": "code",
   "execution_count": 32,
   "id": "1f1055dc-6de4-48b0-84bf-0462fd402c41",
   "metadata": {},
   "outputs": [
    {
     "data": {
      "text/html": [
       "<div>\n",
       "<style scoped>\n",
       "    .dataframe tbody tr th:only-of-type {\n",
       "        vertical-align: middle;\n",
       "    }\n",
       "\n",
       "    .dataframe tbody tr th {\n",
       "        vertical-align: top;\n",
       "    }\n",
       "\n",
       "    .dataframe thead th {\n",
       "        text-align: right;\n",
       "    }\n",
       "</style>\n",
       "<table border=\"1\" class=\"dataframe\">\n",
       "  <thead>\n",
       "    <tr style=\"text-align: right;\">\n",
       "      <th></th>\n",
       "      <th>TRUE_LOC</th>\n",
       "      <th>TRUE_PHI</th>\n",
       "      <th>TRUE_QOP</th>\n",
       "      <th>TRUE_P</th>\n",
       "      <th>FIT_LOC</th>\n",
       "      <th>FIT_PHI</th>\n",
       "      <th>FIT_QOP</th>\n",
       "      <th>FIT_P</th>\n",
       "      <th>RES_LOC</th>\n",
       "      <th>RES_PHI</th>\n",
       "      <th>RES_QOP</th>\n",
       "      <th>RES_P</th>\n",
       "      <th>TOTAL_ELOSS</th>\n",
       "      <th>MAX_ELOSS</th>\n",
       "      <th>SURF_NO_ELOSS</th>\n",
       "    </tr>\n",
       "  </thead>\n",
       "  <tbody>\n",
       "    <tr>\n",
       "      <th>154</th>\n",
       "      <td>0.0</td>\n",
       "      <td>1.570796</td>\n",
       "      <td>-0.25</td>\n",
       "      <td>4.0</td>\n",
       "      <td>0.039111</td>\n",
       "      <td>1.571099</td>\n",
       "      <td>-0.248162</td>\n",
       "      <td>4.029629</td>\n",
       "      <td>0.039111</td>\n",
       "      <td>0.000302</td>\n",
       "      <td>0.001838</td>\n",
       "      <td>0.029629</td>\n",
       "      <td>0.056712</td>\n",
       "      <td>0.056712</td>\n",
       "      <td>8</td>\n",
       "    </tr>\n",
       "    <tr>\n",
       "      <th>222</th>\n",
       "      <td>0.0</td>\n",
       "      <td>1.570796</td>\n",
       "      <td>-0.25</td>\n",
       "      <td>4.0</td>\n",
       "      <td>0.111064</td>\n",
       "      <td>1.572018</td>\n",
       "      <td>-0.239853</td>\n",
       "      <td>4.169225</td>\n",
       "      <td>0.111064</td>\n",
       "      <td>0.001222</td>\n",
       "      <td>0.010147</td>\n",
       "      <td>0.169225</td>\n",
       "      <td>0.001021</td>\n",
       "      <td>0.001021</td>\n",
       "      <td>8</td>\n",
       "    </tr>\n",
       "    <tr>\n",
       "      <th>227</th>\n",
       "      <td>0.0</td>\n",
       "      <td>1.570796</td>\n",
       "      <td>-0.25</td>\n",
       "      <td>4.0</td>\n",
       "      <td>0.030271</td>\n",
       "      <td>1.571296</td>\n",
       "      <td>-0.243548</td>\n",
       "      <td>4.105968</td>\n",
       "      <td>0.030271</td>\n",
       "      <td>0.000499</td>\n",
       "      <td>0.006452</td>\n",
       "      <td>0.105968</td>\n",
       "      <td>0.135495</td>\n",
       "      <td>0.135495</td>\n",
       "      <td>8</td>\n",
       "    </tr>\n",
       "    <tr>\n",
       "      <th>229</th>\n",
       "      <td>0.0</td>\n",
       "      <td>1.570796</td>\n",
       "      <td>-0.25</td>\n",
       "      <td>4.0</td>\n",
       "      <td>0.094032</td>\n",
       "      <td>1.571808</td>\n",
       "      <td>-0.242330</td>\n",
       "      <td>4.126609</td>\n",
       "      <td>0.094032</td>\n",
       "      <td>0.001011</td>\n",
       "      <td>0.007670</td>\n",
       "      <td>0.126609</td>\n",
       "      <td>0.033362</td>\n",
       "      <td>0.033362</td>\n",
       "      <td>8</td>\n",
       "    </tr>\n",
       "    <tr>\n",
       "      <th>258</th>\n",
       "      <td>0.0</td>\n",
       "      <td>1.570796</td>\n",
       "      <td>-0.25</td>\n",
       "      <td>4.0</td>\n",
       "      <td>0.091527</td>\n",
       "      <td>1.571958</td>\n",
       "      <td>-0.239462</td>\n",
       "      <td>4.176026</td>\n",
       "      <td>0.091527</td>\n",
       "      <td>0.001162</td>\n",
       "      <td>0.010538</td>\n",
       "      <td>0.176026</td>\n",
       "      <td>0.026243</td>\n",
       "      <td>0.026231</td>\n",
       "      <td>8</td>\n",
       "    </tr>\n",
       "    <tr>\n",
       "      <th>314</th>\n",
       "      <td>0.0</td>\n",
       "      <td>1.570796</td>\n",
       "      <td>-0.25</td>\n",
       "      <td>4.0</td>\n",
       "      <td>0.063488</td>\n",
       "      <td>1.571417</td>\n",
       "      <td>-0.245705</td>\n",
       "      <td>4.069917</td>\n",
       "      <td>0.063488</td>\n",
       "      <td>0.000620</td>\n",
       "      <td>0.004295</td>\n",
       "      <td>0.069917</td>\n",
       "      <td>0.000035</td>\n",
       "      <td>0.000035</td>\n",
       "      <td>8</td>\n",
       "    </tr>\n",
       "    <tr>\n",
       "      <th>317</th>\n",
       "      <td>0.0</td>\n",
       "      <td>1.570796</td>\n",
       "      <td>-0.25</td>\n",
       "      <td>4.0</td>\n",
       "      <td>0.057533</td>\n",
       "      <td>1.571457</td>\n",
       "      <td>-0.244879</td>\n",
       "      <td>4.083652</td>\n",
       "      <td>0.057533</td>\n",
       "      <td>0.000661</td>\n",
       "      <td>0.005121</td>\n",
       "      <td>0.083652</td>\n",
       "      <td>0.080718</td>\n",
       "      <td>0.080718</td>\n",
       "      <td>8</td>\n",
       "    </tr>\n",
       "    <tr>\n",
       "      <th>337</th>\n",
       "      <td>0.0</td>\n",
       "      <td>1.570796</td>\n",
       "      <td>-0.25</td>\n",
       "      <td>4.0</td>\n",
       "      <td>0.064920</td>\n",
       "      <td>1.571507</td>\n",
       "      <td>-0.242800</td>\n",
       "      <td>4.118614</td>\n",
       "      <td>0.064920</td>\n",
       "      <td>0.000710</td>\n",
       "      <td>0.007200</td>\n",
       "      <td>0.118614</td>\n",
       "      <td>0.088629</td>\n",
       "      <td>0.088610</td>\n",
       "      <td>8</td>\n",
       "    </tr>\n",
       "    <tr>\n",
       "      <th>358</th>\n",
       "      <td>0.0</td>\n",
       "      <td>1.570796</td>\n",
       "      <td>-0.25</td>\n",
       "      <td>4.0</td>\n",
       "      <td>0.099318</td>\n",
       "      <td>1.571917</td>\n",
       "      <td>-0.240556</td>\n",
       "      <td>4.157036</td>\n",
       "      <td>0.099318</td>\n",
       "      <td>0.001120</td>\n",
       "      <td>0.009444</td>\n",
       "      <td>0.157036</td>\n",
       "      <td>0.000002</td>\n",
       "      <td>0.000002</td>\n",
       "      <td>8</td>\n",
       "    </tr>\n",
       "    <tr>\n",
       "      <th>456</th>\n",
       "      <td>0.0</td>\n",
       "      <td>1.570796</td>\n",
       "      <td>-0.25</td>\n",
       "      <td>4.0</td>\n",
       "      <td>0.027372</td>\n",
       "      <td>1.571281</td>\n",
       "      <td>-0.245375</td>\n",
       "      <td>4.075399</td>\n",
       "      <td>0.027372</td>\n",
       "      <td>0.000484</td>\n",
       "      <td>0.004625</td>\n",
       "      <td>0.075399</td>\n",
       "      <td>0.069866</td>\n",
       "      <td>0.069840</td>\n",
       "      <td>8</td>\n",
       "    </tr>\n",
       "    <tr>\n",
       "      <th>457</th>\n",
       "      <td>0.0</td>\n",
       "      <td>1.570796</td>\n",
       "      <td>-0.25</td>\n",
       "      <td>4.0</td>\n",
       "      <td>0.123204</td>\n",
       "      <td>1.572083</td>\n",
       "      <td>-0.239452</td>\n",
       "      <td>4.176198</td>\n",
       "      <td>0.123204</td>\n",
       "      <td>0.001287</td>\n",
       "      <td>0.010548</td>\n",
       "      <td>0.176198</td>\n",
       "      <td>0.001194</td>\n",
       "      <td>0.001168</td>\n",
       "      <td>8</td>\n",
       "    </tr>\n",
       "  </tbody>\n",
       "</table>\n",
       "</div>"
      ],
      "text/plain": [
       "     TRUE_LOC  TRUE_PHI  TRUE_QOP  TRUE_P   FIT_LOC   FIT_PHI   FIT_QOP  \\\n",
       "154       0.0  1.570796     -0.25     4.0  0.039111  1.571099 -0.248162   \n",
       "222       0.0  1.570796     -0.25     4.0  0.111064  1.572018 -0.239853   \n",
       "227       0.0  1.570796     -0.25     4.0  0.030271  1.571296 -0.243548   \n",
       "229       0.0  1.570796     -0.25     4.0  0.094032  1.571808 -0.242330   \n",
       "258       0.0  1.570796     -0.25     4.0  0.091527  1.571958 -0.239462   \n",
       "314       0.0  1.570796     -0.25     4.0  0.063488  1.571417 -0.245705   \n",
       "317       0.0  1.570796     -0.25     4.0  0.057533  1.571457 -0.244879   \n",
       "337       0.0  1.570796     -0.25     4.0  0.064920  1.571507 -0.242800   \n",
       "358       0.0  1.570796     -0.25     4.0  0.099318  1.571917 -0.240556   \n",
       "456       0.0  1.570796     -0.25     4.0  0.027372  1.571281 -0.245375   \n",
       "457       0.0  1.570796     -0.25     4.0  0.123204  1.572083 -0.239452   \n",
       "\n",
       "        FIT_P   RES_LOC   RES_PHI   RES_QOP     RES_P  TOTAL_ELOSS  MAX_ELOSS  \\\n",
       "154  4.029629  0.039111  0.000302  0.001838  0.029629     0.056712   0.056712   \n",
       "222  4.169225  0.111064  0.001222  0.010147  0.169225     0.001021   0.001021   \n",
       "227  4.105968  0.030271  0.000499  0.006452  0.105968     0.135495   0.135495   \n",
       "229  4.126609  0.094032  0.001011  0.007670  0.126609     0.033362   0.033362   \n",
       "258  4.176026  0.091527  0.001162  0.010538  0.176026     0.026243   0.026231   \n",
       "314  4.069917  0.063488  0.000620  0.004295  0.069917     0.000035   0.000035   \n",
       "317  4.083652  0.057533  0.000661  0.005121  0.083652     0.080718   0.080718   \n",
       "337  4.118614  0.064920  0.000710  0.007200  0.118614     0.088629   0.088610   \n",
       "358  4.157036  0.099318  0.001120  0.009444  0.157036     0.000002   0.000002   \n",
       "456  4.075399  0.027372  0.000484  0.004625  0.075399     0.069866   0.069840   \n",
       "457  4.176198  0.123204  0.001287  0.010548  0.176198     0.001194   0.001168   \n",
       "\n",
       "     SURF_NO_ELOSS  \n",
       "154              8  \n",
       "222              8  \n",
       "227              8  \n",
       "229              8  \n",
       "258              8  \n",
       "314              8  \n",
       "317              8  \n",
       "337              8  \n",
       "358              8  \n",
       "456              8  \n",
       "457              8  "
      ]
     },
     "execution_count": 32,
     "metadata": {},
     "output_type": "execute_result"
    }
   ],
   "source": [
    "test"
   ]
  },
  {
   "cell_type": "code",
   "execution_count": null,
   "id": "16ae2607-9eef-49bf-9d0f-bf1c63db7f12",
   "metadata": {},
   "outputs": [],
   "source": []
  }
 ],
 "metadata": {
  "kernelspec": {
   "display_name": "Python 3",
   "language": "python",
   "name": "python3"
  },
  "language_info": {
   "codemirror_mode": {
    "name": "ipython",
    "version": 3
   },
   "file_extension": ".py",
   "mimetype": "text/x-python",
   "name": "python",
   "nbconvert_exporter": "python",
   "pygments_lexer": "ipython3",
   "version": "3.11.1"
  }
 },
 "nbformat": 4,
 "nbformat_minor": 5
}
